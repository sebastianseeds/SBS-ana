{
 "cells": [
  {
   "cell_type": "code",
   "execution_count": 3,
   "id": "ongoing-transaction",
   "metadata": {},
   "outputs": [
    {
     "name": "stdout",
     "output_type": "stream",
     "text": [
      "Hello world!\n"
     ]
    }
   ],
   "source": [
    "print(\"Hello world!\")"
   ]
  },
  {
   "cell_type": "code",
   "execution_count": 4,
   "id": "tired-coast",
   "metadata": {},
   "outputs": [],
   "source": [
    "# Testing a comment"
   ]
  },
  {
   "cell_type": "code",
   "execution_count": 5,
   "id": "subsequent-collins",
   "metadata": {},
   "outputs": [],
   "source": [
    "import uproot"
   ]
  },
  {
   "cell_type": "code",
   "execution_count": 6,
   "id": "printable-arrangement",
   "metadata": {},
   "outputs": [],
   "source": [
    "import numpy as np"
   ]
  },
  {
   "cell_type": "code",
   "execution_count": 7,
   "id": "genuine-sauce",
   "metadata": {},
   "outputs": [],
   "source": [
    "import pandas as pd"
   ]
  },
  {
   "cell_type": "code",
   "execution_count": 8,
   "id": "plastic-header",
   "metadata": {},
   "outputs": [],
   "source": [
    "import matplotlib.pyplot as plt"
   ]
  },
  {
   "cell_type": "code",
   "execution_count": 17,
   "id": "professional-domain",
   "metadata": {},
   "outputs": [],
   "source": [
    "# Open the ROOT file\n",
    "T = uproot.open(\"/lustre19/expphy/volatile/halla/sbs/seeds/parse/parse_mc_sbs4_30p_barebones_alt.root:P\")"
   ]
  },
  {
   "cell_type": "code",
   "execution_count": 18,
   "id": "utility-characteristic",
   "metadata": {},
   "outputs": [
    {
     "data": {
      "text/plain": [
       "0         -1.188730\n",
       "1          0.603512\n",
       "2         -1.077426\n",
       "3         -0.543007\n",
       "4         -2.483350\n",
       "             ...   \n",
       "9181987   -1.612437\n",
       "9181988   -0.328357\n",
       "9181989   -0.540038\n",
       "9181990   -0.630783\n",
       "9181991    0.107671\n",
       "Length: 9181992, dtype: float64"
      ]
     },
     "execution_count": 18,
     "metadata": {},
     "output_type": "execute_result"
    }
   ],
   "source": [
    "T[\"dx\"].array(library=\"pd\")"
   ]
  },
  {
   "cell_type": "code",
   "execution_count": 20,
   "id": "natural-repository",
   "metadata": {},
   "outputs": [
    {
     "data": {
      "text/html": [
       "<pre>[{dx: -1.19},\n",
       " {dx: 0.604},\n",
       " {dx: -1.08},\n",
       " {dx: -0.543},\n",
       " {dx: -2.48},\n",
       " {dx: 1.63},\n",
       " {dx: 0.245},\n",
       " {dx: -0.499},\n",
       " {dx: -2.1},\n",
       " {dx: -0.458},\n",
       " ...,\n",
       " {dx: 1.24},\n",
       " {dx: 1.18},\n",
       " {dx: 0.396},\n",
       " {dx: -1.53},\n",
       " {dx: -1.61},\n",
       " {dx: -0.328},\n",
       " {dx: -0.54},\n",
       " {dx: -0.631},\n",
       " {dx: 0.108}]\n",
       "-----------------\n",
       "type: 9181992 * {\n",
       "    dx: float64\n",
       "}</pre>"
      ],
      "text/plain": [
       "<Array [{dx: -1.19}, {...}, ..., {dx: 0.108}] type='9181992 * {dx: float64}'>"
      ]
     },
     "execution_count": 20,
     "metadata": {},
     "output_type": "execute_result"
    }
   ],
   "source": [
    "T.arrays(\"dx\", aliases={\"delta-x\":\"mc_weight_norm\"})"
   ]
  },
  {
   "cell_type": "code",
   "execution_count": 21,
   "id": "ahead-edgar",
   "metadata": {},
   "outputs": [
    {
     "ename": "AttributeError",
     "evalue": "no field named 'to_hist'",
     "output_type": "error",
     "traceback": [
      "\u001b[0;31m---------------------------------------------------------------------------\u001b[0m",
      "\u001b[0;31mAttributeError\u001b[0m                            Traceback (most recent call last)",
      "\u001b[0;32m<ipython-input-21-b078e3621c4f>\u001b[0m in \u001b[0;36m<module>\u001b[0;34m\u001b[0m\n\u001b[0;32m----> 1\u001b[0;31m \u001b[0mT\u001b[0m\u001b[0;34m.\u001b[0m\u001b[0marrays\u001b[0m\u001b[0;34m(\u001b[0m\u001b[0;34m[\u001b[0m\u001b[0;34m\"dx\"\u001b[0m\u001b[0;34m]\u001b[0m\u001b[0;34m,\u001b[0m \u001b[0;34m\"mc_weight_norm\"\u001b[0m\u001b[0;34m)\u001b[0m\u001b[0;34m.\u001b[0m\u001b[0mto_hist\u001b[0m\u001b[0;34m(\u001b[0m\u001b[0;34m)\u001b[0m\u001b[0;34m\u001b[0m\u001b[0;34m\u001b[0m\u001b[0m\n\u001b[0m",
      "\u001b[0;32m~/.local/lib/python3.8/site-packages/awkward/highlevel.py\u001b[0m in \u001b[0;36m__getattr__\u001b[0;34m(self, where)\u001b[0m\n\u001b[1;32m   1120\u001b[0m                     ) from err\n\u001b[1;32m   1121\u001b[0m             \u001b[0;32melse\u001b[0m\u001b[0;34m:\u001b[0m\u001b[0;34m\u001b[0m\u001b[0;34m\u001b[0m\u001b[0m\n\u001b[0;32m-> 1122\u001b[0;31m                 \u001b[0;32mraise\u001b[0m \u001b[0mak\u001b[0m\u001b[0;34m.\u001b[0m\u001b[0m_errors\u001b[0m\u001b[0;34m.\u001b[0m\u001b[0mwrap_error\u001b[0m\u001b[0;34m(\u001b[0m\u001b[0mAttributeError\u001b[0m\u001b[0;34m(\u001b[0m\u001b[0;34mf\"no field named {where!r}\"\u001b[0m\u001b[0;34m)\u001b[0m\u001b[0;34m)\u001b[0m\u001b[0;34m\u001b[0m\u001b[0;34m\u001b[0m\u001b[0m\n\u001b[0m\u001b[1;32m   1123\u001b[0m \u001b[0;34m\u001b[0m\u001b[0m\n\u001b[1;32m   1124\u001b[0m     \u001b[0;32mdef\u001b[0m \u001b[0m__setattr__\u001b[0m\u001b[0;34m(\u001b[0m\u001b[0mself\u001b[0m\u001b[0;34m,\u001b[0m \u001b[0mname\u001b[0m\u001b[0;34m,\u001b[0m \u001b[0mvalue\u001b[0m\u001b[0;34m)\u001b[0m\u001b[0;34m:\u001b[0m\u001b[0;34m\u001b[0m\u001b[0;34m\u001b[0m\u001b[0m\n",
      "\u001b[0;31mAttributeError\u001b[0m: no field named 'to_hist'"
     ]
    }
   ],
   "source": [
    "T.arrays([\"dx\"], \"mc_weight_norm\").to_hist()"
   ]
  },
  {
   "cell_type": "code",
   "execution_count": 36,
   "id": "contained-convertible",
   "metadata": {},
   "outputs": [],
   "source": [
    "hcalN = T.arrays([\"sbs.hcal.nclus\", \"sbs.hcal.nblk\"], library=\"pd\")"
   ]
  },
  {
   "cell_type": "code",
   "execution_count": 37,
   "id": "fresh-donna",
   "metadata": {},
   "outputs": [
    {
     "data": {
      "text/html": [
       "<div>\n",
       "<style scoped>\n",
       "    .dataframe tbody tr th:only-of-type {\n",
       "        vertical-align: middle;\n",
       "    }\n",
       "\n",
       "    .dataframe tbody tr th {\n",
       "        vertical-align: top;\n",
       "    }\n",
       "\n",
       "    .dataframe thead th {\n",
       "        text-align: right;\n",
       "    }\n",
       "</style>\n",
       "<table border=\"1\" class=\"dataframe\">\n",
       "  <thead>\n",
       "    <tr style=\"text-align: right;\">\n",
       "      <th></th>\n",
       "      <th>sbs.hcal.nclus</th>\n",
       "      <th>sbs.hcal.nblk</th>\n",
       "    </tr>\n",
       "  </thead>\n",
       "  <tbody>\n",
       "    <tr>\n",
       "      <th>0</th>\n",
       "      <td>6.0</td>\n",
       "      <td>1.0</td>\n",
       "    </tr>\n",
       "    <tr>\n",
       "      <th>1</th>\n",
       "      <td>2.0</td>\n",
       "      <td>1.0</td>\n",
       "    </tr>\n",
       "    <tr>\n",
       "      <th>2</th>\n",
       "      <td>6.0</td>\n",
       "      <td>2.0</td>\n",
       "    </tr>\n",
       "    <tr>\n",
       "      <th>3</th>\n",
       "      <td>5.0</td>\n",
       "      <td>1.0</td>\n",
       "    </tr>\n",
       "    <tr>\n",
       "      <th>4</th>\n",
       "      <td>3.0</td>\n",
       "      <td>1.0</td>\n",
       "    </tr>\n",
       "    <tr>\n",
       "      <th>...</th>\n",
       "      <td>...</td>\n",
       "      <td>...</td>\n",
       "    </tr>\n",
       "    <tr>\n",
       "      <th>144678</th>\n",
       "      <td>2.0</td>\n",
       "      <td>1.0</td>\n",
       "    </tr>\n",
       "    <tr>\n",
       "      <th>144679</th>\n",
       "      <td>6.0</td>\n",
       "      <td>3.0</td>\n",
       "    </tr>\n",
       "    <tr>\n",
       "      <th>144680</th>\n",
       "      <td>5.0</td>\n",
       "      <td>1.0</td>\n",
       "    </tr>\n",
       "    <tr>\n",
       "      <th>144681</th>\n",
       "      <td>4.0</td>\n",
       "      <td>1.0</td>\n",
       "    </tr>\n",
       "    <tr>\n",
       "      <th>144682</th>\n",
       "      <td>5.0</td>\n",
       "      <td>1.0</td>\n",
       "    </tr>\n",
       "  </tbody>\n",
       "</table>\n",
       "<p>144683 rows × 2 columns</p>\n",
       "</div>"
      ],
      "text/plain": [
       "        sbs.hcal.nclus  sbs.hcal.nblk\n",
       "0                  6.0            1.0\n",
       "1                  2.0            1.0\n",
       "2                  6.0            2.0\n",
       "3                  5.0            1.0\n",
       "4                  3.0            1.0\n",
       "...                ...            ...\n",
       "144678             2.0            1.0\n",
       "144679             6.0            3.0\n",
       "144680             5.0            1.0\n",
       "144681             4.0            1.0\n",
       "144682             5.0            1.0\n",
       "\n",
       "[144683 rows x 2 columns]"
      ]
     },
     "execution_count": 37,
     "metadata": {},
     "output_type": "execute_result"
    }
   ],
   "source": [
    "hcalN"
   ]
  },
  {
   "cell_type": "code",
   "execution_count": 42,
   "id": "intellectual-charlotte",
   "metadata": {},
   "outputs": [
    {
     "name": "stderr",
     "output_type": "stream",
     "text": [
      "/home/sseeds/.local/lib/python3.8/site-packages/uproot/language/python.py:422: NameConflictWarning: 'sbs.hcal.e' is both an alias and a branch name\n",
      "  warnings.warn(\n"
     ]
    },
    {
     "data": {
      "text/html": [
       "<pre>[{&#x27;sbs.hcal.e&#x27;: 0.112},\n",
       " {&#x27;sbs.hcal.e&#x27;: 0.0152},\n",
       " {&#x27;sbs.hcal.e&#x27;: 0.0368},\n",
       " {&#x27;sbs.hcal.e&#x27;: 0.0234},\n",
       " {&#x27;sbs.hcal.e&#x27;: 0.0584},\n",
       " {&#x27;sbs.hcal.e&#x27;: 0.122},\n",
       " {&#x27;sbs.hcal.e&#x27;: 0.0405},\n",
       " {&#x27;sbs.hcal.e&#x27;: 0.0504},\n",
       " {&#x27;sbs.hcal.e&#x27;: 0.0684},\n",
       " {&#x27;sbs.hcal.e&#x27;: 0.0317},\n",
       " ...,\n",
       " {&#x27;sbs.hcal.e&#x27;: 0.0127},\n",
       " {&#x27;sbs.hcal.e&#x27;: 0.145},\n",
       " {&#x27;sbs.hcal.e&#x27;: 0.0264},\n",
       " {&#x27;sbs.hcal.e&#x27;: 0.0105},\n",
       " {&#x27;sbs.hcal.e&#x27;: 0.0852},\n",
       " {&#x27;sbs.hcal.e&#x27;: 0.0644},\n",
       " {&#x27;sbs.hcal.e&#x27;: 0.0237},\n",
       " {&#x27;sbs.hcal.e&#x27;: 0.0239},\n",
       " {&#x27;sbs.hcal.e&#x27;: 0.111}]\n",
       "-------------------------\n",
       "type: 144683 * {\n",
       "    &quot;sbs.hcal.e&quot;: float64\n",
       "}</pre>"
      ],
      "text/plain": [
       "<Array [{'sbs.hcal.e': 0.112}, ..., {...}] type='144683 * {\"sbs.hcal.e\": fl...'>"
      ]
     },
     "execution_count": 42,
     "metadata": {},
     "output_type": "execute_result"
    }
   ],
   "source": [
    "T.arrays(\"sbs.hcal.e\", aliases={\"sbs.hcal.e\":\"sbs.hcal.nblk>2\"})"
   ]
  }
 ],
 "metadata": {
  "kernelspec": {
   "display_name": "Python 3",
   "language": "python",
   "name": "python3"
  },
  "language_info": {
   "codemirror_mode": {
    "name": "ipython",
    "version": 3
   },
   "file_extension": ".py",
   "mimetype": "text/x-python",
   "name": "python",
   "nbconvert_exporter": "python",
   "pygments_lexer": "ipython3",
   "version": "3.8.6"
  }
 },
 "nbformat": 4,
 "nbformat_minor": 5
}
